{
 "cells": [
  {
   "cell_type": "markdown",
   "id": "a8e43b9e-0aa5-4e33-a416-ceac240c612f",
   "metadata": {},
   "source": [
    "# Stage Analysis\n",
    "\n",
    "In this notebook I analyze the time the program takes for each stage of the algorithm.\n",
    "Here you will find the 3 versions:\n",
    "\n",
    "1. Sequential\n",
    "2. Parallel THR (Native C++ Threads)\n",
    "3. Parallel FF (using Fast Flow Lib)\n"
   ]
  },
  {
   "cell_type": "code",
   "execution_count": 1,
   "id": "f65c661e-95b7-41ee-991c-e8ee785ef3ac",
   "metadata": {},
   "outputs": [],
   "source": [
    "from b_tools.preprocess import get_standardized_measures"
   ]
  },
  {
   "cell_type": "markdown",
   "id": "6a3a28cd-0a96-4d34-a3f9-7ca010e82471",
   "metadata": {},
   "source": [
    "### Sequential (SEQ)"
   ]
  },
  {
   "cell_type": "code",
   "execution_count": 23,
   "id": "32574244-1a59-473b-bd4e-765eae793c34",
   "metadata": {},
   "outputs": [],
   "source": [
    "# Choose the file\n",
    "DATASET=40"
   ]
  },
  {
   "cell_type": "code",
   "execution_count": 24,
   "id": "78f8ceac-e109-46b5-aff3-a92bbbf9620c",
   "metadata": {},
   "outputs": [],
   "source": [
    "seq = get_standardized_measures(f\"results/sequential_{DATASET}.csv\")"
   ]
  },
  {
   "cell_type": "code",
   "execution_count": 25,
   "id": "d3cf9737-d43a-43c6-9f83-e310e1dd97a5",
   "metadata": {},
   "outputs": [
    {
     "data": {
      "text/html": [
       "<div>\n",
       "<style scoped>\n",
       "    .dataframe tbody tr th:only-of-type {\n",
       "        vertical-align: middle;\n",
       "    }\n",
       "\n",
       "    .dataframe tbody tr th {\n",
       "        vertical-align: top;\n",
       "    }\n",
       "\n",
       "    .dataframe thead th {\n",
       "        text-align: right;\n",
       "    }\n",
       "</style>\n",
       "<table border=\"1\" class=\"dataframe\">\n",
       "  <thead>\n",
       "    <tr style=\"text-align: right;\">\n",
       "      <th></th>\n",
       "      <th>READ</th>\n",
       "      <th>FREQCALC</th>\n",
       "      <th>HUFFBUILD</th>\n",
       "      <th>MAP</th>\n",
       "      <th>TRANSFORM</th>\n",
       "      <th>WRITE</th>\n",
       "      <th>TOTAL</th>\n",
       "    </tr>\n",
       "  </thead>\n",
       "  <tbody>\n",
       "    <tr>\n",
       "      <th>count</th>\n",
       "      <td>5.000000e+00</td>\n",
       "      <td>5.000000e+00</td>\n",
       "      <td>5.000000</td>\n",
       "      <td>5.000000e+00</td>\n",
       "      <td>5.000000e+00</td>\n",
       "      <td>5.000000e+00</td>\n",
       "      <td>5.000000e+00</td>\n",
       "    </tr>\n",
       "    <tr>\n",
       "      <th>mean</th>\n",
       "      <td>2.339257e+07</td>\n",
       "      <td>1.104073e+08</td>\n",
       "      <td>33158.200000</td>\n",
       "      <td>3.903778e+08</td>\n",
       "      <td>2.353634e+09</td>\n",
       "      <td>4.061661e+07</td>\n",
       "      <td>2.918461e+09</td>\n",
       "    </tr>\n",
       "    <tr>\n",
       "      <th>std</th>\n",
       "      <td>1.296199e+06</td>\n",
       "      <td>3.103078e+06</td>\n",
       "      <td>2350.948043</td>\n",
       "      <td>1.776649e+07</td>\n",
       "      <td>3.254690e+06</td>\n",
       "      <td>3.715162e+05</td>\n",
       "      <td>1.611049e+07</td>\n",
       "    </tr>\n",
       "    <tr>\n",
       "      <th>min</th>\n",
       "      <td>2.250110e+07</td>\n",
       "      <td>1.055128e+08</td>\n",
       "      <td>30127.000000</td>\n",
       "      <td>3.653309e+08</td>\n",
       "      <td>2.350644e+09</td>\n",
       "      <td>4.017772e+07</td>\n",
       "      <td>2.895848e+09</td>\n",
       "    </tr>\n",
       "    <tr>\n",
       "      <th>25%</th>\n",
       "      <td>2.282372e+07</td>\n",
       "      <td>1.100939e+08</td>\n",
       "      <td>31969.000000</td>\n",
       "      <td>3.815398e+08</td>\n",
       "      <td>2.350889e+09</td>\n",
       "      <td>4.042404e+07</td>\n",
       "      <td>2.911772e+09</td>\n",
       "    </tr>\n",
       "    <tr>\n",
       "      <th>50%</th>\n",
       "      <td>2.292953e+07</td>\n",
       "      <td>1.107944e+08</td>\n",
       "      <td>32872.000000</td>\n",
       "      <td>3.945932e+08</td>\n",
       "      <td>2.352560e+09</td>\n",
       "      <td>4.048837e+07</td>\n",
       "      <td>2.922173e+09</td>\n",
       "    </tr>\n",
       "    <tr>\n",
       "      <th>75%</th>\n",
       "      <td>2.302420e+07</td>\n",
       "      <td>1.116571e+08</td>\n",
       "      <td>34615.000000</td>\n",
       "      <td>3.981689e+08</td>\n",
       "      <td>2.356154e+09</td>\n",
       "      <td>4.090323e+07</td>\n",
       "      <td>2.922864e+09</td>\n",
       "    </tr>\n",
       "    <tr>\n",
       "      <th>max</th>\n",
       "      <td>2.568432e+07</td>\n",
       "      <td>1.139780e+08</td>\n",
       "      <td>36208.000000</td>\n",
       "      <td>4.122562e+08</td>\n",
       "      <td>2.357922e+09</td>\n",
       "      <td>4.108968e+07</td>\n",
       "      <td>2.939649e+09</td>\n",
       "    </tr>\n",
       "  </tbody>\n",
       "</table>\n",
       "</div>"
      ],
      "text/plain": [
       "               READ      FREQCALC     HUFFBUILD           MAP     TRANSFORM  \\\n",
       "count  5.000000e+00  5.000000e+00      5.000000  5.000000e+00  5.000000e+00   \n",
       "mean   2.339257e+07  1.104073e+08  33158.200000  3.903778e+08  2.353634e+09   \n",
       "std    1.296199e+06  3.103078e+06   2350.948043  1.776649e+07  3.254690e+06   \n",
       "min    2.250110e+07  1.055128e+08  30127.000000  3.653309e+08  2.350644e+09   \n",
       "25%    2.282372e+07  1.100939e+08  31969.000000  3.815398e+08  2.350889e+09   \n",
       "50%    2.292953e+07  1.107944e+08  32872.000000  3.945932e+08  2.352560e+09   \n",
       "75%    2.302420e+07  1.116571e+08  34615.000000  3.981689e+08  2.356154e+09   \n",
       "max    2.568432e+07  1.139780e+08  36208.000000  4.122562e+08  2.357922e+09   \n",
       "\n",
       "              WRITE         TOTAL  \n",
       "count  5.000000e+00  5.000000e+00  \n",
       "mean   4.061661e+07  2.918461e+09  \n",
       "std    3.715162e+05  1.611049e+07  \n",
       "min    4.017772e+07  2.895848e+09  \n",
       "25%    4.042404e+07  2.911772e+09  \n",
       "50%    4.048837e+07  2.922173e+09  \n",
       "75%    4.090323e+07  2.922864e+09  \n",
       "max    4.108968e+07  2.939649e+09  "
      ]
     },
     "execution_count": 25,
     "metadata": {},
     "output_type": "execute_result"
    }
   ],
   "source": [
    "seq.describe()"
   ]
  },
  {
   "cell_type": "code",
   "execution_count": 26,
   "id": "d6bae185-b998-4bcd-9568-636566f19c60",
   "metadata": {},
   "outputs": [],
   "source": [
    "seq_stages = list(seq.columns)\n",
    "seq_stages.remove('TOTAL')\n",
    "seq_means = [seq[stage].mean() for stage in seq_stages]"
   ]
  },
  {
   "cell_type": "code",
   "execution_count": 27,
   "id": "ff2019c1-9a8e-4104-ad37-98aa3270fc11",
   "metadata": {},
   "outputs": [
    {
     "data": {
      "image/png": "[encoded data removed]",
      "text/plain": [
       "<Figure size 1000x500 with 1 Axes>"
      ]
     },
     "metadata": {},
     "output_type": "display_data"
    }
   ],
   "source": [
    "import matplotlib.pyplot as plt \n",
    " \n",
    "fig = plt.figure(figsize = (10, 5))\n",
    "plt.bar(seq_stages, seq_means, color='red', width=0.4)\n",
    "\n",
    "plt.xlabel(\"Stages\")\n",
    "plt.ylabel(\"Time [ns]\")\n",
    "plt.yscale('log')\n",
    "plt.title(\"Time spent on each stage\")\n",
    "plt.show()"
   ]
  },
  {
   "cell_type": "markdown",
   "id": "aba1c702-806b-4faa-b8ae-d37d5c225906",
   "metadata": {},
   "source": [
    "## Parallel (THR)"
   ]
  },
  {
   "cell_type": "code",
   "execution_count": 28,
   "id": "b19b1e41-f03d-42c9-95af-3034182a3cb2",
   "metadata": {},
   "outputs": [],
   "source": [
    "thr = get_standardized_measures(f'results/thr_{DATASET}.csv', excluded_columns=['P_DEGREE'])"
   ]
  },
  {
   "cell_type": "code",
   "execution_count": 29,
   "id": "1fa619b6-ad08-4c1b-a810-998465953113",
   "metadata": {},
   "outputs": [],
   "source": [
    "def plot_for_p(p_degree):\n",
    "    thr_data = thr[thr['P_DEGREE'] == p_degree]\n",
    "    thr_means = [thr_data[stage].mean() for stage in seq_stages]\n",
    "    width = 0.3  # the width of the bars\n",
    "    multiplier = 0\n",
    "    \n",
    "    cl = [\"r\",\"b\"]\n",
    "    label=[\"Sequential\", \"Parallel\"]\n",
    "    import numpy as np\n",
    "    x = np.arange(len(seq_stages))\n",
    "    fig, ax = plt.subplots(layout='constrained', figsize=(10,5))\n",
    "    for attribute, measurement in zip(seq_stages, np.array([seq_means, thr_means]) ):\n",
    "        offset = width * multiplier\n",
    "        rects = ax.bar(x + offset, measurement, -width,  color=cl[multiplier], align=\"edge\", label=label[multiplier])\n",
    "       \n",
    "        #ax.bar_label(rects, padding=2)\n",
    "        multiplier += 1\n",
    "        ax.set_xticklabels([\"0\", 'READ', 'FREQCALC', 'HUFFBUILD', 'MAP', 'TRANSFORM', 'WRITE'])\n",
    "        ax.set_xlabel(\"Stages\")\n",
    "        ax.set_ylabel(\"Time [ns]\")\n",
    "        ax.set_yscale('log')\n",
    "        ax.set_title(\"Time spent on each stage\")\n",
    "    plt.legend()\n",
    "    plt.show()"
   ]
  },
  {
   "cell_type": "code",
   "execution_count": 30,
   "id": "2335722f-84dc-479f-811b-3c7d8e89cede",
   "metadata": {},
   "outputs": [
    {
     "name": "stderr",
     "output_type": "stream",
     "text": [
      "/tmp/ipykernel_342497/3040245533.py:18: UserWarning: set_ticklabels() should only be used with a fixed number of ticks, i.e. after set_ticks() or using a FixedLocator.\n",
      "  ax.set_xticklabels([\"0\", 'READ', 'FREQCALC', 'HUFFBUILD', 'MAP', 'TRANSFORM', 'WRITE'])\n",
      "/tmp/ipykernel_342497/3040245533.py:18: UserWarning: set_ticklabels() should only be used with a fixed number of ticks, i.e. after set_ticks() or using a FixedLocator.\n",
      "  ax.set_xticklabels([\"0\", 'READ', 'FREQCALC', 'HUFFBUILD', 'MAP', 'TRANSFORM', 'WRITE'])\n"
     ]
    },
    {
     "data": {
      "image/png": "[encoded data removed]",
      "text/plain": [
       "<Figure size 1000x500 with 1 Axes>"
      ]
     },
     "metadata": {},
     "output_type": "display_data"
    }
   ],
   "source": [
    "plot_for_p(11)"
   ]
  },
  {
   "cell_type": "code",
   "execution_count": null,
   "id": "8ec98661-6ded-4139-84c6-43dcff521c4f",
   "metadata": {},
   "outputs": [],
   "source": []
  }
 ],
 "metadata": {
  "kernelspec": {
   "display_name": "Python 3 (ipykernel)",
   "language": "python",
   "name": "python3"
  },
  "language_info": {
   "codemirror_mode": {
    "name": "ipython",
    "version": 3
   },
   "file_extension": ".py",
   "mimetype": "text/x-python",
   "name": "python",
   "nbconvert_exporter": "python",
   "pygments_lexer": "ipython3",
   "version": "3.11.5"
  }
 },
 "nbformat": 4,
 "nbformat_minor": 5
}
