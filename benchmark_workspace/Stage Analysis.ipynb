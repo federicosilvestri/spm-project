{
 "cells": [
  {
   "cell_type": "markdown",
   "id": "a8e43b9e-0aa5-4e33-a416-ceac240c612f",
   "metadata": {},
   "source": [
    "# Stage Analysis\n",
    "\n",
    "In this notebook I analyze the time the program takes for each stage of the algorithm.\n",
    "Here you will find the 3 versions:\n",
    "\n",
    "1. Sequential\n",
    "2. Parallel THR (Native C++ Threads)\n",
    "3. Parallel FF (using Fast Flow Lib)\n"
   ]
  },
  {
   "cell_type": "code",
   "execution_count": 1,
   "id": "f65c661e-95b7-41ee-991c-e8ee785ef3ac",
   "metadata": {},
   "outputs": [],
   "source": [
    "from b_tools.preprocess import get_standardized_measures"
   ]
  },
  {
   "cell_type": "markdown",
   "id": "6a3a28cd-0a96-4d34-a3f9-7ca010e82471",
   "metadata": {},
   "source": [
    "### Sequential (SEQ)"
   ]
  },
  {
   "cell_type": "code",
   "execution_count": 2,
   "id": "32574244-1a59-473b-bd4e-765eae793c34",
   "metadata": {},
   "outputs": [],
   "source": [
    "# Choose the file\n",
    "DATASET=20"
   ]
  },
  {
   "cell_type": "code",
   "execution_count": 3,
   "id": "78f8ceac-e109-46b5-aff3-a92bbbf9620c",
   "metadata": {},
   "outputs": [],
   "source": [
    "seq = get_standardized_measures(f\"results/sequential_{DATASET}.csv\")"
   ]
  },
  {
   "cell_type": "code",
   "execution_count": 4,
   "id": "d3cf9737-d43a-43c6-9f83-e310e1dd97a5",
   "metadata": {},
   "outputs": [
    {
     "data": {
      "text/html": [
       "<div>\n",
       "<style scoped>\n",
       "    .dataframe tbody tr th:only-of-type {\n",
       "        vertical-align: middle;\n",
       "    }\n",
       "\n",
       "    .dataframe tbody tr th {\n",
       "        vertical-align: top;\n",
       "    }\n",
       "\n",
       "    .dataframe thead th {\n",
       "        text-align: right;\n",
       "    }\n",
       "</style>\n",
       "<table border=\"1\" class=\"dataframe\">\n",
       "  <thead>\n",
       "    <tr style=\"text-align: right;\">\n",
       "      <th></th>\n",
       "      <th>READ</th>\n",
       "      <th>FREQCALC</th>\n",
       "      <th>HUFFBUILD</th>\n",
       "      <th>MAP</th>\n",
       "      <th>WRITE</th>\n",
       "      <th>TOTAL</th>\n",
       "    </tr>\n",
       "  </thead>\n",
       "  <tbody>\n",
       "    <tr>\n",
       "      <th>count</th>\n",
       "      <td>2.000000e+00</td>\n",
       "      <td>2.000000e+00</td>\n",
       "      <td>2.000000</td>\n",
       "      <td>2.000000e+00</td>\n",
       "      <td>2.000000e+00</td>\n",
       "      <td>2.000000e+00</td>\n",
       "    </tr>\n",
       "    <tr>\n",
       "      <th>mean</th>\n",
       "      <td>2.664027e+07</td>\n",
       "      <td>3.102896e+08</td>\n",
       "      <td>249231.500000</td>\n",
       "      <td>1.663129e+09</td>\n",
       "      <td>1.568619e+08</td>\n",
       "      <td>2.157170e+09</td>\n",
       "    </tr>\n",
       "    <tr>\n",
       "      <th>std</th>\n",
       "      <td>9.457878e+05</td>\n",
       "      <td>4.437683e+06</td>\n",
       "      <td>5598.164387</td>\n",
       "      <td>5.045492e+06</td>\n",
       "      <td>5.433759e+07</td>\n",
       "      <td>5.400521e+07</td>\n",
       "    </tr>\n",
       "    <tr>\n",
       "      <th>min</th>\n",
       "      <td>2.597150e+07</td>\n",
       "      <td>3.071516e+08</td>\n",
       "      <td>245273.000000</td>\n",
       "      <td>1.659561e+09</td>\n",
       "      <td>1.184394e+08</td>\n",
       "      <td>2.118982e+09</td>\n",
       "    </tr>\n",
       "    <tr>\n",
       "      <th>25%</th>\n",
       "      <td>2.630588e+07</td>\n",
       "      <td>3.087206e+08</td>\n",
       "      <td>247252.250000</td>\n",
       "      <td>1.661345e+09</td>\n",
       "      <td>1.376507e+08</td>\n",
       "      <td>2.138076e+09</td>\n",
       "    </tr>\n",
       "    <tr>\n",
       "      <th>50%</th>\n",
       "      <td>2.664027e+07</td>\n",
       "      <td>3.102896e+08</td>\n",
       "      <td>249231.500000</td>\n",
       "      <td>1.663129e+09</td>\n",
       "      <td>1.568619e+08</td>\n",
       "      <td>2.157170e+09</td>\n",
       "    </tr>\n",
       "    <tr>\n",
       "      <th>75%</th>\n",
       "      <td>2.697466e+07</td>\n",
       "      <td>3.118585e+08</td>\n",
       "      <td>251210.750000</td>\n",
       "      <td>1.664913e+09</td>\n",
       "      <td>1.760731e+08</td>\n",
       "      <td>2.176263e+09</td>\n",
       "    </tr>\n",
       "    <tr>\n",
       "      <th>max</th>\n",
       "      <td>2.730904e+07</td>\n",
       "      <td>3.134275e+08</td>\n",
       "      <td>253190.000000</td>\n",
       "      <td>1.666696e+09</td>\n",
       "      <td>1.952844e+08</td>\n",
       "      <td>2.195357e+09</td>\n",
       "    </tr>\n",
       "  </tbody>\n",
       "</table>\n",
       "</div>"
      ],
      "text/plain": [
       "               READ      FREQCALC      HUFFBUILD           MAP         WRITE  \\\n",
       "count  2.000000e+00  2.000000e+00       2.000000  2.000000e+00  2.000000e+00   \n",
       "mean   2.664027e+07  3.102896e+08  249231.500000  1.663129e+09  1.568619e+08   \n",
       "std    9.457878e+05  4.437683e+06    5598.164387  5.045492e+06  5.433759e+07   \n",
       "min    2.597150e+07  3.071516e+08  245273.000000  1.659561e+09  1.184394e+08   \n",
       "25%    2.630588e+07  3.087206e+08  247252.250000  1.661345e+09  1.376507e+08   \n",
       "50%    2.664027e+07  3.102896e+08  249231.500000  1.663129e+09  1.568619e+08   \n",
       "75%    2.697466e+07  3.118585e+08  251210.750000  1.664913e+09  1.760731e+08   \n",
       "max    2.730904e+07  3.134275e+08  253190.000000  1.666696e+09  1.952844e+08   \n",
       "\n",
       "              TOTAL  \n",
       "count  2.000000e+00  \n",
       "mean   2.157170e+09  \n",
       "std    5.400521e+07  \n",
       "min    2.118982e+09  \n",
       "25%    2.138076e+09  \n",
       "50%    2.157170e+09  \n",
       "75%    2.176263e+09  \n",
       "max    2.195357e+09  "
      ]
     },
     "execution_count": 4,
     "metadata": {},
     "output_type": "execute_result"
    }
   ],
   "source": [
    "seq.describe()"
   ]
  },
  {
   "cell_type": "code",
   "execution_count": 5,
   "id": "d6bae185-b998-4bcd-9568-636566f19c60",
   "metadata": {},
   "outputs": [],
   "source": [
    "seq_stages = list(seq.columns)\n",
    "seq_stages.remove('TOTAL')\n",
    "seq_means = [seq[stage].mean() for stage in seq_stages]"
   ]
  },
  {
   "cell_type": "code",
   "execution_count": 6,
   "id": "ff2019c1-9a8e-4104-ad37-98aa3270fc11",
   "metadata": {},
   "outputs": [
    {
     "data": {
      "image/png": "[encoded data removed]",
      "text/plain": [
       "<Figure size 1000x500 with 1 Axes>"
      ]
     },
     "metadata": {},
     "output_type": "display_data"
    }
   ],
   "source": [
    "import matplotlib.pyplot as plt \n",
    " \n",
    "fig = plt.figure(figsize = (10, 5))\n",
    "plt.bar(seq_stages, seq_means, color='red', width=0.4)\n",
    " \n",
    "plt.xlabel(\"Stages\")\n",
    "plt.ylabel(\"Time [ns]\")\n",
    "plt.yscale('log')\n",
    "plt.title(\"Time spent on each stage\")\n",
    "plt.show()"
   ]
  },
  {
   "cell_type": "markdown",
   "id": "aba1c702-806b-4faa-b8ae-d37d5c225906",
   "metadata": {},
   "source": [
    "## Parallel (THR)"
   ]
  },
  {
   "cell_type": "code",
   "execution_count": 7,
   "id": "b19b1e41-f03d-42c9-95af-3034182a3cb2",
   "metadata": {},
   "outputs": [],
   "source": [
    "thr = get_standardized_measures(f'results/thr_{DATASET}.csv', excluded_columns=['P_DEGREE'])"
   ]
  },
  {
   "cell_type": "code",
   "execution_count": 8,
   "id": "1fa619b6-ad08-4c1b-a810-998465953113",
   "metadata": {},
   "outputs": [],
   "source": [
    "def plot_for_p(p_degree, data):\n",
    "    thr_data = data[data['P_DEGREE'] == p_degree]\n",
    "    thr_stages = list(thr_data.columns)\n",
    "    thr_stages.remove('TOTAL')\n",
    "    thr_stages.remove('P_DEGREE')\n",
    "    thr_means = [thr_data[stage].mean() for stage in thr_stages]\n",
    "    fig = plt.figure(figsize = (10, 5))\n",
    "    plt.bar(thr_stages, thr_means, color='blue', width=0.4)\n",
    "    plt.xlabel(\"Stages\")\n",
    "    plt.ylabel(\"Time [ns]\")\n",
    "    plt.yscale('log')\n",
    "    plt.title(\"Time spent on each stage\")\n",
    "    plt.show()"
   ]
  },
  {
   "cell_type": "code",
   "execution_count": 12,
   "id": "4c730283-5e08-46b5-8d1e-c618ef4fb3f3",
   "metadata": {},
   "outputs": [
    {
     "data": {
      "image/png": "[encoded data removed]",
      "text/plain": [
       "<Figure size 1000x500 with 1 Axes>"
      ]
     },
     "metadata": {},
     "output_type": "display_data"
    }
   ],
   "source": [
    "plot_for_p(6, thr)"
   ]
  },
  {
   "cell_type": "code",
   "execution_count": 14,
   "id": "17b3f5ce-7a3a-47a8-8fc6-7e2c48c3ed55",
   "metadata": {},
   "outputs": [
    {
     "data": {
      "image/png": "[encoded data removed]",
      "text/plain": [
       "<Figure size 1000x500 with 1 Axes>"
      ]
     },
     "metadata": {},
     "output_type": "display_data"
    }
   ],
   "source": [
    "plot_for_p(11, thr)"
   ]
  },
  {
   "cell_type": "code",
   "execution_count": 11,
   "id": "5ade12df-9399-4ff9-ac0d-5c5d6aae4bbd",
   "metadata": {},
   "outputs": [
    {
     "data": {
      "text/html": [
       "<div>\n",
       "<style scoped>\n",
       "    .dataframe tbody tr th:only-of-type {\n",
       "        vertical-align: middle;\n",
       "    }\n",
       "\n",
       "    .dataframe tbody tr th {\n",
       "        vertical-align: top;\n",
       "    }\n",
       "\n",
       "    .dataframe thead th {\n",
       "        text-align: right;\n",
       "    }\n",
       "</style>\n",
       "<table border=\"1\" class=\"dataframe\">\n",
       "  <thead>\n",
       "    <tr style=\"text-align: right;\">\n",
       "      <th></th>\n",
       "      <th>P_DEGREE</th>\n",
       "      <th>READ</th>\n",
       "      <th>FREQCALC</th>\n",
       "      <th>HUFFBUILD</th>\n",
       "      <th>MAP</th>\n",
       "      <th>WRITE</th>\n",
       "      <th>TOTAL</th>\n",
       "    </tr>\n",
       "  </thead>\n",
       "  <tbody>\n",
       "    <tr>\n",
       "      <th>0</th>\n",
       "      <td>1</td>\n",
       "      <td>25686243</td>\n",
       "      <td>334842058</td>\n",
       "      <td>222887</td>\n",
       "      <td>2378245679</td>\n",
       "      <td>186629443</td>\n",
       "      <td>2925626310</td>\n",
       "    </tr>\n",
       "  </tbody>\n",
       "</table>\n",
       "</div>"
      ],
      "text/plain": [
       "   P_DEGREE      READ   FREQCALC  HUFFBUILD         MAP      WRITE       TOTAL\n",
       "0         1  25686243  334842058     222887  2378245679  186629443  2925626310"
      ]
     },
     "execution_count": 11,
     "metadata": {},
     "output_type": "execute_result"
    }
   ],
   "source": [
    "thr[thr['TOTAL'] == thr['TOTAL'].max()]"
   ]
  },
  {
   "cell_type": "code",
   "execution_count": null,
   "id": "e1966ca1-95d3-474b-8157-1e51620d5aaf",
   "metadata": {},
   "outputs": [],
   "source": []
  }
 ],
 "metadata": {
  "kernelspec": {
   "display_name": "Python 3 (ipykernel)",
   "language": "python",
   "name": "python3"
  },
  "language_info": {
   "codemirror_mode": {
    "name": "ipython",
    "version": 3
   },
   "file_extension": ".py",
   "mimetype": "text/x-python",
   "name": "python",
   "nbconvert_exporter": "python",
   "pygments_lexer": "ipython3",
   "version": "3.11.5"
  }
 },
 "nbformat": 4,
 "nbformat_minor": 5
}
