{
 "cells": [
  {
   "cell_type": "markdown",
   "id": "a8e43b9e-0aa5-4e33-a416-ceac240c612f",
   "metadata": {},
   "source": [
    "# Stage Analysis\n",
    "\n",
    "In this notebook I analyze the time the program takes for each stage of the algorithm.\n",
    "Here you will find the 3 versions:\n",
    "\n",
    "1. Sequential\n",
    "2. Parallel THR (Native C++ Threads)\n",
    "3. Parallel FF (using Fast Flow Lib)\n"
   ]
  },
  {
   "cell_type": "code",
   "execution_count": 1,
   "id": "f65c661e-95b7-41ee-991c-e8ee785ef3ac",
   "metadata": {},
   "outputs": [],
   "source": [
    "from b_tools.preprocess import get_standardized_measures"
   ]
  },
  {
   "cell_type": "markdown",
   "id": "6a3a28cd-0a96-4d34-a3f9-7ca010e82471",
   "metadata": {},
   "source": [
    "### Sequential (SEQ)"
   ]
  },
  {
   "cell_type": "code",
   "execution_count": 2,
   "id": "32574244-1a59-473b-bd4e-765eae793c34",
   "metadata": {},
   "outputs": [],
   "source": [
    "# Choose the file\n",
    "DATASET=20"
   ]
  },
  {
   "cell_type": "code",
   "execution_count": 3,
   "id": "78f8ceac-e109-46b5-aff3-a92bbbf9620c",
   "metadata": {},
   "outputs": [],
   "source": [
    "seq = get_standardized_measures(f\"results/sequential_{DATASET}.csv\")"
   ]
  },
  {
   "cell_type": "code",
   "execution_count": 4,
   "id": "d3cf9737-d43a-43c6-9f83-e310e1dd97a5",
   "metadata": {},
   "outputs": [
    {
     "data": {
      "text/html": [
       "<div>\n",
       "<style scoped>\n",
       "    .dataframe tbody tr th:only-of-type {\n",
       "        vertical-align: middle;\n",
       "    }\n",
       "\n",
       "    .dataframe tbody tr th {\n",
       "        vertical-align: top;\n",
       "    }\n",
       "\n",
       "    .dataframe thead th {\n",
       "        text-align: right;\n",
       "    }\n",
       "</style>\n",
       "<table border=\"1\" class=\"dataframe\">\n",
       "  <thead>\n",
       "    <tr style=\"text-align: right;\">\n",
       "      <th></th>\n",
       "      <th>READ</th>\n",
       "      <th>FREQCALC</th>\n",
       "      <th>HUFFBUILD</th>\n",
       "      <th>MAP</th>\n",
       "      <th>WRITE</th>\n",
       "      <th>TOTAL</th>\n",
       "    </tr>\n",
       "  </thead>\n",
       "  <tbody>\n",
       "    <tr>\n",
       "      <th>count</th>\n",
       "      <td>2.000000e+00</td>\n",
       "      <td>2.000000e+00</td>\n",
       "      <td>2.000000</td>\n",
       "      <td>2.000000e+00</td>\n",
       "      <td>2.000000e+00</td>\n",
       "      <td>2.000000e+00</td>\n",
       "    </tr>\n",
       "    <tr>\n",
       "      <th>mean</th>\n",
       "      <td>2.650894e+07</td>\n",
       "      <td>7.433043e+08</td>\n",
       "      <td>230192.000000</td>\n",
       "      <td>1.720253e+09</td>\n",
       "      <td>1.665607e+08</td>\n",
       "      <td>2.656857e+09</td>\n",
       "    </tr>\n",
       "    <tr>\n",
       "      <th>std</th>\n",
       "      <td>1.097930e+06</td>\n",
       "      <td>4.649275e+06</td>\n",
       "      <td>13635.847168</td>\n",
       "      <td>3.640504e+06</td>\n",
       "      <td>5.960891e+07</td>\n",
       "      <td>5.748857e+07</td>\n",
       "    </tr>\n",
       "    <tr>\n",
       "      <th>min</th>\n",
       "      <td>2.573258e+07</td>\n",
       "      <td>7.400168e+08</td>\n",
       "      <td>220550.000000</td>\n",
       "      <td>1.717679e+09</td>\n",
       "      <td>1.244109e+08</td>\n",
       "      <td>2.616207e+09</td>\n",
       "    </tr>\n",
       "    <tr>\n",
       "      <th>25%</th>\n",
       "      <td>2.612076e+07</td>\n",
       "      <td>7.416605e+08</td>\n",
       "      <td>225371.000000</td>\n",
       "      <td>1.718966e+09</td>\n",
       "      <td>1.454858e+08</td>\n",
       "      <td>2.636532e+09</td>\n",
       "    </tr>\n",
       "    <tr>\n",
       "      <th>50%</th>\n",
       "      <td>2.650894e+07</td>\n",
       "      <td>7.433043e+08</td>\n",
       "      <td>230192.000000</td>\n",
       "      <td>1.720253e+09</td>\n",
       "      <td>1.665607e+08</td>\n",
       "      <td>2.656857e+09</td>\n",
       "    </tr>\n",
       "    <tr>\n",
       "      <th>75%</th>\n",
       "      <td>2.689711e+07</td>\n",
       "      <td>7.449481e+08</td>\n",
       "      <td>235013.000000</td>\n",
       "      <td>1.721540e+09</td>\n",
       "      <td>1.876357e+08</td>\n",
       "      <td>2.677182e+09</td>\n",
       "    </tr>\n",
       "    <tr>\n",
       "      <th>max</th>\n",
       "      <td>2.728529e+07</td>\n",
       "      <td>7.465918e+08</td>\n",
       "      <td>239834.000000</td>\n",
       "      <td>1.722827e+09</td>\n",
       "      <td>2.087106e+08</td>\n",
       "      <td>2.697508e+09</td>\n",
       "    </tr>\n",
       "  </tbody>\n",
       "</table>\n",
       "</div>"
      ],
      "text/plain": [
       "               READ      FREQCALC      HUFFBUILD           MAP         WRITE  \\\n",
       "count  2.000000e+00  2.000000e+00       2.000000  2.000000e+00  2.000000e+00   \n",
       "mean   2.650894e+07  7.433043e+08  230192.000000  1.720253e+09  1.665607e+08   \n",
       "std    1.097930e+06  4.649275e+06   13635.847168  3.640504e+06  5.960891e+07   \n",
       "min    2.573258e+07  7.400168e+08  220550.000000  1.717679e+09  1.244109e+08   \n",
       "25%    2.612076e+07  7.416605e+08  225371.000000  1.718966e+09  1.454858e+08   \n",
       "50%    2.650894e+07  7.433043e+08  230192.000000  1.720253e+09  1.665607e+08   \n",
       "75%    2.689711e+07  7.449481e+08  235013.000000  1.721540e+09  1.876357e+08   \n",
       "max    2.728529e+07  7.465918e+08  239834.000000  1.722827e+09  2.087106e+08   \n",
       "\n",
       "              TOTAL  \n",
       "count  2.000000e+00  \n",
       "mean   2.656857e+09  \n",
       "std    5.748857e+07  \n",
       "min    2.616207e+09  \n",
       "25%    2.636532e+09  \n",
       "50%    2.656857e+09  \n",
       "75%    2.677182e+09  \n",
       "max    2.697508e+09  "
      ]
     },
     "execution_count": 4,
     "metadata": {},
     "output_type": "execute_result"
    }
   ],
   "source": [
    "seq.describe()"
   ]
  },
  {
   "cell_type": "code",
   "execution_count": 5,
   "id": "d6bae185-b998-4bcd-9568-636566f19c60",
   "metadata": {},
   "outputs": [],
   "source": [
    "seq_stages = list(seq.columns)\n",
    "seq_stages.remove('TOTAL')\n",
    "seq_means = [seq[stage].mean() for stage in seq_stages]"
   ]
  },
  {
   "cell_type": "code",
   "execution_count": 6,
   "id": "ff2019c1-9a8e-4104-ad37-98aa3270fc11",
   "metadata": {},
   "outputs": [
    {
     "data": {
      "image/png": "[encoded data removed]",
      "text/plain": [
       "<Figure size 1000x500 with 1 Axes>"
      ]
     },
     "metadata": {},
     "output_type": "display_data"
    }
   ],
   "source": [
    "import matplotlib.pyplot as plt \n",
    " \n",
    "fig = plt.figure(figsize = (10, 5))\n",
    "plt.bar(seq_stages, seq_means, color='red', width=0.4)\n",
    " \n",
    "plt.xlabel(\"Stages\")\n",
    "plt.ylabel(\"Time [ns]\")\n",
    "plt.yscale('log')\n",
    "plt.title(\"Time spent on each stage\")\n",
    "plt.show()"
   ]
  },
  {
   "cell_type": "markdown",
   "id": "aba1c702-806b-4faa-b8ae-d37d5c225906",
   "metadata": {},
   "source": [
    "## Parallel (THR)"
   ]
  },
  {
   "cell_type": "code",
   "execution_count": 7,
   "id": "b19b1e41-f03d-42c9-95af-3034182a3cb2",
   "metadata": {},
   "outputs": [],
   "source": [
    "thr = get_standardized_measures(f'results/thr_{DATASET}.csv', excluded_columns=['P_DEGREE'])"
   ]
  },
  {
   "cell_type": "code",
   "execution_count": 8,
   "id": "1fa619b6-ad08-4c1b-a810-998465953113",
   "metadata": {},
   "outputs": [],
   "source": [
    "def plot_for_p(p_degree, data):\n",
    "    thr_data = data[data['P_DEGREE'] == p_degree]\n",
    "    thr_stages = list(thr_data.columns)\n",
    "    thr_stages.remove('TOTAL')\n",
    "    thr_stages.remove('P_DEGREE')\n",
    "    thr_means = [thr_data[stage].mean() for stage in thr_stages]\n",
    "    fig = plt.figure(figsize = (10, 5))\n",
    "    plt.bar(thr_stages, thr_means, color='blue', width=0.4)\n",
    "    plt.xlabel(\"Stages\")\n",
    "    plt.ylabel(\"Time [ns]\")\n",
    "    plt.yscale('log')\n",
    "    plt.title(\"Time spent on each stage\")\n",
    "    plt.show()"
   ]
  },
  {
   "cell_type": "code",
   "execution_count": 9,
   "id": "4c730283-5e08-46b5-8d1e-c618ef4fb3f3",
   "metadata": {},
   "outputs": [
    {
     "data": {
      "image/png": "[encoded data removed]",
      "text/plain": [
       "<Figure size 1000x500 with 1 Axes>"
      ]
     },
     "metadata": {},
     "output_type": "display_data"
    }
   ],
   "source": [
    "plot_for_p(5, thr)"
   ]
  },
  {
   "cell_type": "code",
   "execution_count": 10,
   "id": "17b3f5ce-7a3a-47a8-8fc6-7e2c48c3ed55",
   "metadata": {},
   "outputs": [
    {
     "data": {
      "image/png": "[encoded data removed]",
      "text/plain": [
       "<Figure size 1000x500 with 1 Axes>"
      ]
     },
     "metadata": {},
     "output_type": "display_data"
    }
   ],
   "source": [
    "plot_for_p(9, thr)"
   ]
  },
  {
   "cell_type": "code",
   "execution_count": 11,
   "id": "5ade12df-9399-4ff9-ac0d-5c5d6aae4bbd",
   "metadata": {},
   "outputs": [
    {
     "data": {
      "text/html": [
       "<div>\n",
       "<style scoped>\n",
       "    .dataframe tbody tr th:only-of-type {\n",
       "        vertical-align: middle;\n",
       "    }\n",
       "\n",
       "    .dataframe tbody tr th {\n",
       "        vertical-align: top;\n",
       "    }\n",
       "\n",
       "    .dataframe thead th {\n",
       "        text-align: right;\n",
       "    }\n",
       "</style>\n",
       "<table border=\"1\" class=\"dataframe\">\n",
       "  <thead>\n",
       "    <tr style=\"text-align: right;\">\n",
       "      <th></th>\n",
       "      <th>P_DEGREE</th>\n",
       "      <th>READ</th>\n",
       "      <th>FREQCALC</th>\n",
       "      <th>HUFFBUILD</th>\n",
       "      <th>MAP</th>\n",
       "      <th>WRITE</th>\n",
       "      <th>TOTAL</th>\n",
       "    </tr>\n",
       "  </thead>\n",
       "  <tbody>\n",
       "    <tr>\n",
       "      <th>1</th>\n",
       "      <td>1</td>\n",
       "      <td>35245793</td>\n",
       "      <td>794508091</td>\n",
       "      <td>221739</td>\n",
       "      <td>5327166919</td>\n",
       "      <td>204194668</td>\n",
       "      <td>6361337210</td>\n",
       "    </tr>\n",
       "  </tbody>\n",
       "</table>\n",
       "</div>"
      ],
      "text/plain": [
       "   P_DEGREE      READ   FREQCALC  HUFFBUILD         MAP      WRITE       TOTAL\n",
       "1         1  35245793  794508091     221739  5327166919  204194668  6361337210"
      ]
     },
     "execution_count": 11,
     "metadata": {},
     "output_type": "execute_result"
    }
   ],
   "source": [
    "thr[thr['TOTAL'] == thr['TOTAL'].max()]"
   ]
  },
  {
   "cell_type": "code",
   "execution_count": null,
   "id": "e1966ca1-95d3-474b-8157-1e51620d5aaf",
   "metadata": {},
   "outputs": [],
   "source": []
  }
 ],
 "metadata": {
  "kernelspec": {
   "display_name": "Python 3 (ipykernel)",
   "language": "python",
   "name": "python3"
  },
  "language_info": {
   "codemirror_mode": {
    "name": "ipython",
    "version": 3
   },
   "file_extension": ".py",
   "mimetype": "text/x-python",
   "name": "python",
   "nbconvert_exporter": "python",
   "pygments_lexer": "ipython3",
   "version": "3.11.5"
  }
 },
 "nbformat": 4,
 "nbformat_minor": 5
}
