{
 "cells": [
  {
   "cell_type": "code",
   "execution_count": 1,
   "id": "78f8ceac-e109-46b5-aff3-a92bbbf9620c",
   "metadata": {},
   "outputs": [],
   "source": [
    "from b_tools.preprocess import get_standardized_measures"
   ]
  },
  {
   "cell_type": "code",
   "execution_count": 10,
   "id": "af11b318-b5ca-4d45-a638-bbf16a1cba0f",
   "metadata": {},
   "outputs": [],
   "source": [
    "data_50 = get_standardized_measures('results/sequential_50.csv')\n",
    "data_100 = get_standardized_measures('results/sequential_100.csv')"
   ]
  },
  {
   "cell_type": "code",
   "execution_count": 14,
   "id": "d3cf9737-d43a-43c6-9f83-e310e1dd97a5",
   "metadata": {},
   "outputs": [],
   "source": [
    "x = range(0, len(data['TOTAL']))\n",
    "y50= data_50['TOTAL']\n",
    "y100 = data_100['TOTAL']"
   ]
  },
  {
   "cell_type": "code",
   "execution_count": 19,
   "id": "9b3375b6-2db2-4b96-9d8f-6b9947191744",
   "metadata": {},
   "outputs": [
    {
     "data": {
      "image/png": "[encoded data removed]",
      "text/plain": [
       "<Figure size 640x480 with 1 Axes>"
      ]
     },
     "metadata": {},
     "output_type": "display_data"
    }
   ],
   "source": [
    "import matplotlib.pyplot as plt\n",
    "\n",
    "plt.title(\"Execution time\")\n",
    "# plt.yscale('log')\n",
    "plt.plot(x, y50, '-xb')\n",
    "plt.plot(x, y100, '-xr')\n",
    "\n",
    "plt.xticks(x)\n",
    "plt.xlabel(\"P\")\n",
    "plt.ylabel(\"Time [ns]\")\n",
    "plt.legend(['50M', '100M'])\n",
    "\n",
    "plt.show()"
   ]
  },
  {
   "cell_type": "markdown",
   "id": "0e992b80-d572-4d82-9f2c-1c23970b2305",
   "metadata": {},
   "source": [
    "# Final results for sequential execution\n",
    "\n",
    "Results are in nanoseconds.\n"
   ]
  },
  {
   "cell_type": "code",
   "execution_count": 9,
   "id": "bbad2b58-11de-4c23-9f7b-652b2d53c2aa",
   "metadata": {},
   "outputs": [
    {
     "data": {
      "text/html": [
       "<div>\n",
       "<style scoped>\n",
       "    .dataframe tbody tr th:only-of-type {\n",
       "        vertical-align: middle;\n",
       "    }\n",
       "\n",
       "    .dataframe tbody tr th {\n",
       "        vertical-align: top;\n",
       "    }\n",
       "\n",
       "    .dataframe thead th {\n",
       "        text-align: right;\n",
       "    }\n",
       "</style>\n",
       "<table border=\"1\" class=\"dataframe\">\n",
       "  <thead>\n",
       "    <tr style=\"text-align: right;\">\n",
       "      <th></th>\n",
       "      <th>READING</th>\n",
       "      <th>TOTAL</th>\n",
       "    </tr>\n",
       "  </thead>\n",
       "  <tbody>\n",
       "    <tr>\n",
       "      <th>count</th>\n",
       "      <td>5.000000e+00</td>\n",
       "      <td>5.000000e+00</td>\n",
       "    </tr>\n",
       "    <tr>\n",
       "      <th>mean</th>\n",
       "      <td>1.242212e+08</td>\n",
       "      <td>1.242213e+08</td>\n",
       "    </tr>\n",
       "    <tr>\n",
       "      <th>std</th>\n",
       "      <td>2.536879e+06</td>\n",
       "      <td>2.536898e+06</td>\n",
       "    </tr>\n",
       "    <tr>\n",
       "      <th>min</th>\n",
       "      <td>1.216068e+08</td>\n",
       "      <td>1.216069e+08</td>\n",
       "    </tr>\n",
       "    <tr>\n",
       "      <th>25%</th>\n",
       "      <td>1.218788e+08</td>\n",
       "      <td>1.218789e+08</td>\n",
       "    </tr>\n",
       "    <tr>\n",
       "      <th>50%</th>\n",
       "      <td>1.249003e+08</td>\n",
       "      <td>1.249004e+08</td>\n",
       "    </tr>\n",
       "    <tr>\n",
       "      <th>75%</th>\n",
       "      <td>1.249795e+08</td>\n",
       "      <td>1.249796e+08</td>\n",
       "    </tr>\n",
       "    <tr>\n",
       "      <th>max</th>\n",
       "      <td>1.277405e+08</td>\n",
       "      <td>1.277406e+08</td>\n",
       "    </tr>\n",
       "  </tbody>\n",
       "</table>\n",
       "</div>"
      ],
      "text/plain": [
       "            READING         TOTAL\n",
       "count  5.000000e+00  5.000000e+00\n",
       "mean   1.242212e+08  1.242213e+08\n",
       "std    2.536879e+06  2.536898e+06\n",
       "min    1.216068e+08  1.216069e+08\n",
       "25%    1.218788e+08  1.218789e+08\n",
       "50%    1.249003e+08  1.249004e+08\n",
       "75%    1.249795e+08  1.249796e+08\n",
       "max    1.277405e+08  1.277406e+08"
      ]
     },
     "execution_count": 9,
     "metadata": {},
     "output_type": "execute_result"
    }
   ],
   "source": [
    "data.describe()"
   ]
  },
  {
   "cell_type": "code",
   "execution_count": 6,
   "id": "6d823556-bfe1-49f7-906e-6e1b69d1d352",
   "metadata": {},
   "outputs": [
    {
     "data": {
      "text/plain": [
       "1.211563454"
      ]
     },
     "execution_count": 6,
     "metadata": {},
     "output_type": "execute_result"
    }
   ],
   "source": [
    "data['TOTAL'].median() / 10**9"
   ]
  },
  {
   "cell_type": "code",
   "execution_count": null,
   "id": "52c3817c-c8ff-463a-845e-c7c59bb2d12d",
   "metadata": {},
   "outputs": [],
   "source": []
  }
 ],
 "metadata": {
  "kernelspec": {
   "display_name": "Python 3 (ipykernel)",
   "language": "python",
   "name": "python3"
  },
  "language_info": {
   "codemirror_mode": {
    "name": "ipython",
    "version": 3
   },
   "file_extension": ".py",
   "mimetype": "text/x-python",
   "name": "python",
   "nbconvert_exporter": "python",
   "pygments_lexer": "ipython3",
   "version": "3.11.5"
  }
 },
 "nbformat": 4,
 "nbformat_minor": 5
}
