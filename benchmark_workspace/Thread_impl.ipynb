{
 "cells": [
  {
   "cell_type": "code",
   "execution_count": 1,
   "id": "031464dd-e1ff-4831-83d6-b762e66be335",
   "metadata": {},
   "outputs": [],
   "source": [
    "from b_tools.preprocess import get_standardized_measures"
   ]
  },
  {
   "cell_type": "code",
   "execution_count": 2,
   "id": "87116f28-1bb2-46dc-b97d-5066d6df4995",
   "metadata": {},
   "outputs": [],
   "source": [
    "seq = get_standardized_measures('results/sequential_100.csv')\n",
    "seq_time_tot = seq['TOTAL'].mean()"
   ]
  },
  {
   "cell_type": "code",
   "execution_count": 3,
   "id": "e90a8f4f-5000-473b-afe8-0d2a10361d4a",
   "metadata": {},
   "outputs": [],
   "source": [
    "data = get_standardized_measures('results/thr_100.csv', excluded_columns=['P_DEGREE'])"
   ]
  },
  {
   "cell_type": "code",
   "execution_count": 4,
   "id": "ff041285-e4aa-471e-ba83-8396361f3915",
   "metadata": {},
   "outputs": [
    {
     "data": {
      "text/html": [
       "<div>\n",
       "<style scoped>\n",
       "    .dataframe tbody tr th:only-of-type {\n",
       "        vertical-align: middle;\n",
       "    }\n",
       "\n",
       "    .dataframe tbody tr th {\n",
       "        vertical-align: top;\n",
       "    }\n",
       "\n",
       "    .dataframe thead th {\n",
       "        text-align: right;\n",
       "    }\n",
       "</style>\n",
       "<table border=\"1\" class=\"dataframe\">\n",
       "  <thead>\n",
       "    <tr style=\"text-align: right;\">\n",
       "      <th></th>\n",
       "      <th>P_DEGREE</th>\n",
       "      <th>READING</th>\n",
       "      <th>TOTAL</th>\n",
       "    </tr>\n",
       "  </thead>\n",
       "  <tbody>\n",
       "    <tr>\n",
       "      <th>0</th>\n",
       "      <td>1</td>\n",
       "      <td>122203849</td>\n",
       "      <td>122203925</td>\n",
       "    </tr>\n",
       "    <tr>\n",
       "      <th>1</th>\n",
       "      <td>1</td>\n",
       "      <td>120000297</td>\n",
       "      <td>120000379</td>\n",
       "    </tr>\n",
       "    <tr>\n",
       "      <th>2</th>\n",
       "      <td>1</td>\n",
       "      <td>121090569</td>\n",
       "      <td>121090653</td>\n",
       "    </tr>\n",
       "    <tr>\n",
       "      <th>3</th>\n",
       "      <td>1</td>\n",
       "      <td>124201362</td>\n",
       "      <td>124201451</td>\n",
       "    </tr>\n",
       "    <tr>\n",
       "      <th>4</th>\n",
       "      <td>1</td>\n",
       "      <td>122194417</td>\n",
       "      <td>122194498</td>\n",
       "    </tr>\n",
       "    <tr>\n",
       "      <th>...</th>\n",
       "      <td>...</td>\n",
       "      <td>...</td>\n",
       "      <td>...</td>\n",
       "    </tr>\n",
       "    <tr>\n",
       "      <th>95</th>\n",
       "      <td>20</td>\n",
       "      <td>10935251</td>\n",
       "      <td>10935352</td>\n",
       "    </tr>\n",
       "    <tr>\n",
       "      <th>96</th>\n",
       "      <td>20</td>\n",
       "      <td>11401237</td>\n",
       "      <td>11401331</td>\n",
       "    </tr>\n",
       "    <tr>\n",
       "      <th>97</th>\n",
       "      <td>20</td>\n",
       "      <td>10849793</td>\n",
       "      <td>10849880</td>\n",
       "    </tr>\n",
       "    <tr>\n",
       "      <th>98</th>\n",
       "      <td>20</td>\n",
       "      <td>11490317</td>\n",
       "      <td>11490428</td>\n",
       "    </tr>\n",
       "    <tr>\n",
       "      <th>99</th>\n",
       "      <td>20</td>\n",
       "      <td>11025853</td>\n",
       "      <td>11025949</td>\n",
       "    </tr>\n",
       "  </tbody>\n",
       "</table>\n",
       "<p>100 rows × 3 columns</p>\n",
       "</div>"
      ],
      "text/plain": [
       "    P_DEGREE    READING      TOTAL\n",
       "0          1  122203849  122203925\n",
       "1          1  120000297  120000379\n",
       "2          1  121090569  121090653\n",
       "3          1  124201362  124201451\n",
       "4          1  122194417  122194498\n",
       "..       ...        ...        ...\n",
       "95        20   10935251   10935352\n",
       "96        20   11401237   11401331\n",
       "97        20   10849793   10849880\n",
       "98        20   11490317   11490428\n",
       "99        20   11025853   11025949\n",
       "\n",
       "[100 rows x 3 columns]"
      ]
     },
     "execution_count": 4,
     "metadata": {},
     "output_type": "execute_result"
    }
   ],
   "source": [
    "data"
   ]
  },
  {
   "cell_type": "code",
   "execution_count": 5,
   "id": "2823b5c4-222e-4408-9ef1-a866eab17025",
   "metadata": {},
   "outputs": [],
   "source": [
    "import matplotlib.pyplot as plt\n",
    "plt.rcParams['text.usetex'] = True"
   ]
  },
  {
   "cell_type": "code",
   "execution_count": 6,
   "id": "30cb2fad-f698-4b88-8edf-58140b07066a",
   "metadata": {},
   "outputs": [
    {
     "data": {
      "image/png": "[encoded data removed]",
      "text/plain": [
       "<Figure size 640x480 with 1 Axes>"
      ]
     },
     "metadata": {},
     "output_type": "display_data"
    }
   ],
   "source": [
    "# setting up the plot\n",
    "plt.title('Execution time')\n",
    "plt.xticks(data['P_DEGREE'])\n",
    "plt.xlabel(\"P\")\n",
    "plt.ylabel(\"Time [ns]\")\n",
    "\n",
    "# sequential\n",
    "plt.plot(data['P_DEGREE'], [seq_time_tot for _ in range(len(data['P_DEGREE']))], '--r')\n",
    "# parallel\n",
    "plt.plot(data['P_DEGREE'], data['TOTAL'], 'x-b')\n",
    "\n",
    "plt.legend(['Sequential', 'Theaded'])\n",
    "plt.show()"
   ]
  },
  {
   "cell_type": "markdown",
   "id": "9dbde1eb-09e7-4a73-bfe4-68ed11c0c44d",
   "metadata": {},
   "source": [
    "# Outlier detection and mean\n",
    "\n",
    "Here we remove the outliers for the data and we compute the mean"
   ]
  },
  {
   "cell_type": "code",
   "execution_count": 7,
   "id": "e9d51ace-64bb-4fca-9348-e41016d522a8",
   "metadata": {},
   "outputs": [],
   "source": [
    "import pandas as pd"
   ]
  },
  {
   "cell_type": "code",
   "execution_count": 8,
   "id": "f10d227b-f073-4090-805f-fb0962163ad9",
   "metadata": {},
   "outputs": [],
   "source": [
    "# compute the mean for each group\n",
    "sp_data = data.groupby('P_DEGREE', as_index=False).mean()"
   ]
  },
  {
   "cell_type": "code",
   "execution_count": 9,
   "id": "664c343f-cb09-4e0a-9dc0-91f722754a84",
   "metadata": {},
   "outputs": [
    {
     "data": {
      "text/html": [
       "<div>\n",
       "<style scoped>\n",
       "    .dataframe tbody tr th:only-of-type {\n",
       "        vertical-align: middle;\n",
       "    }\n",
       "\n",
       "    .dataframe tbody tr th {\n",
       "        vertical-align: top;\n",
       "    }\n",
       "\n",
       "    .dataframe thead th {\n",
       "        text-align: right;\n",
       "    }\n",
       "</style>\n",
       "<table border=\"1\" class=\"dataframe\">\n",
       "  <thead>\n",
       "    <tr style=\"text-align: right;\">\n",
       "      <th></th>\n",
       "      <th>P_DEGREE</th>\n",
       "      <th>READING</th>\n",
       "      <th>TOTAL</th>\n",
       "    </tr>\n",
       "  </thead>\n",
       "  <tbody>\n",
       "    <tr>\n",
       "      <th>0</th>\n",
       "      <td>1</td>\n",
       "      <td>121938098.8</td>\n",
       "      <td>121938181.2</td>\n",
       "    </tr>\n",
       "    <tr>\n",
       "      <th>1</th>\n",
       "      <td>2</td>\n",
       "      <td>63098904.8</td>\n",
       "      <td>63098992.8</td>\n",
       "    </tr>\n",
       "    <tr>\n",
       "      <th>2</th>\n",
       "      <td>3</td>\n",
       "      <td>43129502.8</td>\n",
       "      <td>43129592.6</td>\n",
       "    </tr>\n",
       "    <tr>\n",
       "      <th>3</th>\n",
       "      <td>4</td>\n",
       "      <td>32771386.2</td>\n",
       "      <td>32771475.8</td>\n",
       "    </tr>\n",
       "    <tr>\n",
       "      <th>4</th>\n",
       "      <td>5</td>\n",
       "      <td>26757658.6</td>\n",
       "      <td>26757762.6</td>\n",
       "    </tr>\n",
       "    <tr>\n",
       "      <th>5</th>\n",
       "      <td>6</td>\n",
       "      <td>22372235.4</td>\n",
       "      <td>22372325.4</td>\n",
       "    </tr>\n",
       "    <tr>\n",
       "      <th>6</th>\n",
       "      <td>7</td>\n",
       "      <td>19488858.4</td>\n",
       "      <td>19488949.0</td>\n",
       "    </tr>\n",
       "    <tr>\n",
       "      <th>7</th>\n",
       "      <td>8</td>\n",
       "      <td>17290659.4</td>\n",
       "      <td>17290751.0</td>\n",
       "    </tr>\n",
       "    <tr>\n",
       "      <th>8</th>\n",
       "      <td>9</td>\n",
       "      <td>15784143.8</td>\n",
       "      <td>15784232.6</td>\n",
       "    </tr>\n",
       "    <tr>\n",
       "      <th>9</th>\n",
       "      <td>10</td>\n",
       "      <td>14290113.4</td>\n",
       "      <td>14290204.4</td>\n",
       "    </tr>\n",
       "    <tr>\n",
       "      <th>10</th>\n",
       "      <td>11</td>\n",
       "      <td>17228135.0</td>\n",
       "      <td>17228222.4</td>\n",
       "    </tr>\n",
       "    <tr>\n",
       "      <th>11</th>\n",
       "      <td>12</td>\n",
       "      <td>16324805.0</td>\n",
       "      <td>16324899.4</td>\n",
       "    </tr>\n",
       "    <tr>\n",
       "      <th>12</th>\n",
       "      <td>13</td>\n",
       "      <td>15292032.4</td>\n",
       "      <td>15292120.8</td>\n",
       "    </tr>\n",
       "    <tr>\n",
       "      <th>13</th>\n",
       "      <td>14</td>\n",
       "      <td>14234303.6</td>\n",
       "      <td>14234397.8</td>\n",
       "    </tr>\n",
       "    <tr>\n",
       "      <th>14</th>\n",
       "      <td>15</td>\n",
       "      <td>13622863.4</td>\n",
       "      <td>13622950.6</td>\n",
       "    </tr>\n",
       "    <tr>\n",
       "      <th>15</th>\n",
       "      <td>16</td>\n",
       "      <td>12706406.8</td>\n",
       "      <td>12706499.6</td>\n",
       "    </tr>\n",
       "    <tr>\n",
       "      <th>16</th>\n",
       "      <td>17</td>\n",
       "      <td>12212822.2</td>\n",
       "      <td>12212916.0</td>\n",
       "    </tr>\n",
       "    <tr>\n",
       "      <th>17</th>\n",
       "      <td>18</td>\n",
       "      <td>11666325.0</td>\n",
       "      <td>11666414.6</td>\n",
       "    </tr>\n",
       "    <tr>\n",
       "      <th>18</th>\n",
       "      <td>19</td>\n",
       "      <td>11428022.2</td>\n",
       "      <td>11428117.2</td>\n",
       "    </tr>\n",
       "    <tr>\n",
       "      <th>19</th>\n",
       "      <td>20</td>\n",
       "      <td>11140490.2</td>\n",
       "      <td>11140588.0</td>\n",
       "    </tr>\n",
       "  </tbody>\n",
       "</table>\n",
       "</div>"
      ],
      "text/plain": [
       "    P_DEGREE      READING        TOTAL\n",
       "0          1  121938098.8  121938181.2\n",
       "1          2   63098904.8   63098992.8\n",
       "2          3   43129502.8   43129592.6\n",
       "3          4   32771386.2   32771475.8\n",
       "4          5   26757658.6   26757762.6\n",
       "5          6   22372235.4   22372325.4\n",
       "6          7   19488858.4   19488949.0\n",
       "7          8   17290659.4   17290751.0\n",
       "8          9   15784143.8   15784232.6\n",
       "9         10   14290113.4   14290204.4\n",
       "10        11   17228135.0   17228222.4\n",
       "11        12   16324805.0   16324899.4\n",
       "12        13   15292032.4   15292120.8\n",
       "13        14   14234303.6   14234397.8\n",
       "14        15   13622863.4   13622950.6\n",
       "15        16   12706406.8   12706499.6\n",
       "16        17   12212822.2   12212916.0\n",
       "17        18   11666325.0   11666414.6\n",
       "18        19   11428022.2   11428117.2\n",
       "19        20   11140490.2   11140588.0"
      ]
     },
     "execution_count": 9,
     "metadata": {},
     "output_type": "execute_result"
    }
   ],
   "source": [
    "sp_data"
   ]
  },
  {
   "cell_type": "markdown",
   "id": "903c2ce9-27e0-4256-b3eb-4beeece3327e",
   "metadata": {},
   "source": [
    "# Speedup\n",
    "\n",
    "Let's calculate the speedup $\\frac{T_{seq}}{T(P)}$"
   ]
  },
  {
   "cell_type": "code",
   "execution_count": 10,
   "id": "a3e41ee2-dd47-4c2c-bb8c-abe9493f501e",
   "metadata": {},
   "outputs": [],
   "source": [
    "sp_data['S_p'] = sp_data['TOTAL'].map(lambda x: seq_time_tot / x)"
   ]
  },
  {
   "cell_type": "code",
   "execution_count": 11,
   "id": "12a491e0-0aca-419b-8656-f581e02847a4",
   "metadata": {},
   "outputs": [
    {
     "data": {
      "text/html": [
       "<div>\n",
       "<style scoped>\n",
       "    .dataframe tbody tr th:only-of-type {\n",
       "        vertical-align: middle;\n",
       "    }\n",
       "\n",
       "    .dataframe tbody tr th {\n",
       "        vertical-align: top;\n",
       "    }\n",
       "\n",
       "    .dataframe thead th {\n",
       "        text-align: right;\n",
       "    }\n",
       "</style>\n",
       "<table border=\"1\" class=\"dataframe\">\n",
       "  <thead>\n",
       "    <tr style=\"text-align: right;\">\n",
       "      <th></th>\n",
       "      <th>P_DEGREE</th>\n",
       "      <th>READING</th>\n",
       "      <th>TOTAL</th>\n",
       "      <th>S_p</th>\n",
       "    </tr>\n",
       "  </thead>\n",
       "  <tbody>\n",
       "    <tr>\n",
       "      <th>0</th>\n",
       "      <td>1</td>\n",
       "      <td>121938098.8</td>\n",
       "      <td>121938181.2</td>\n",
       "      <td>1.018723</td>\n",
       "    </tr>\n",
       "    <tr>\n",
       "      <th>1</th>\n",
       "      <td>2</td>\n",
       "      <td>63098904.8</td>\n",
       "      <td>63098992.8</td>\n",
       "      <td>1.968673</td>\n",
       "    </tr>\n",
       "    <tr>\n",
       "      <th>2</th>\n",
       "      <td>3</td>\n",
       "      <td>43129502.8</td>\n",
       "      <td>43129592.6</td>\n",
       "      <td>2.880187</td>\n",
       "    </tr>\n",
       "    <tr>\n",
       "      <th>3</th>\n",
       "      <td>4</td>\n",
       "      <td>32771386.2</td>\n",
       "      <td>32771475.8</td>\n",
       "      <td>3.790530</td>\n",
       "    </tr>\n",
       "    <tr>\n",
       "      <th>4</th>\n",
       "      <td>5</td>\n",
       "      <td>26757658.6</td>\n",
       "      <td>26757762.6</td>\n",
       "      <td>4.642439</td>\n",
       "    </tr>\n",
       "    <tr>\n",
       "      <th>5</th>\n",
       "      <td>6</td>\n",
       "      <td>22372235.4</td>\n",
       "      <td>22372325.4</td>\n",
       "      <td>5.552453</td>\n",
       "    </tr>\n",
       "    <tr>\n",
       "      <th>6</th>\n",
       "      <td>7</td>\n",
       "      <td>19488858.4</td>\n",
       "      <td>19488949.0</td>\n",
       "      <td>6.373934</td>\n",
       "    </tr>\n",
       "    <tr>\n",
       "      <th>7</th>\n",
       "      <td>8</td>\n",
       "      <td>17290659.4</td>\n",
       "      <td>17290751.0</td>\n",
       "      <td>7.184262</td>\n",
       "    </tr>\n",
       "    <tr>\n",
       "      <th>8</th>\n",
       "      <td>9</td>\n",
       "      <td>15784143.8</td>\n",
       "      <td>15784232.6</td>\n",
       "      <td>7.869960</td>\n",
       "    </tr>\n",
       "    <tr>\n",
       "      <th>9</th>\n",
       "      <td>10</td>\n",
       "      <td>14290113.4</td>\n",
       "      <td>14290204.4</td>\n",
       "      <td>8.692757</td>\n",
       "    </tr>\n",
       "    <tr>\n",
       "      <th>10</th>\n",
       "      <td>11</td>\n",
       "      <td>17228135.0</td>\n",
       "      <td>17228222.4</td>\n",
       "      <td>7.210336</td>\n",
       "    </tr>\n",
       "    <tr>\n",
       "      <th>11</th>\n",
       "      <td>12</td>\n",
       "      <td>16324805.0</td>\n",
       "      <td>16324899.4</td>\n",
       "      <td>7.609314</td>\n",
       "    </tr>\n",
       "    <tr>\n",
       "      <th>12</th>\n",
       "      <td>13</td>\n",
       "      <td>15292032.4</td>\n",
       "      <td>15292120.8</td>\n",
       "      <td>8.123221</td>\n",
       "    </tr>\n",
       "    <tr>\n",
       "      <th>13</th>\n",
       "      <td>14</td>\n",
       "      <td>14234303.6</td>\n",
       "      <td>14234397.8</td>\n",
       "      <td>8.726838</td>\n",
       "    </tr>\n",
       "    <tr>\n",
       "      <th>14</th>\n",
       "      <td>15</td>\n",
       "      <td>13622863.4</td>\n",
       "      <td>13622950.6</td>\n",
       "      <td>9.118530</td>\n",
       "    </tr>\n",
       "    <tr>\n",
       "      <th>15</th>\n",
       "      <td>16</td>\n",
       "      <td>12706406.8</td>\n",
       "      <td>12706499.6</td>\n",
       "      <td>9.776200</td>\n",
       "    </tr>\n",
       "    <tr>\n",
       "      <th>16</th>\n",
       "      <td>17</td>\n",
       "      <td>12212822.2</td>\n",
       "      <td>12212916.0</td>\n",
       "      <td>10.171304</td>\n",
       "    </tr>\n",
       "    <tr>\n",
       "      <th>17</th>\n",
       "      <td>18</td>\n",
       "      <td>11666325.0</td>\n",
       "      <td>11666414.6</td>\n",
       "      <td>10.647768</td>\n",
       "    </tr>\n",
       "    <tr>\n",
       "      <th>18</th>\n",
       "      <td>19</td>\n",
       "      <td>11428022.2</td>\n",
       "      <td>11428117.2</td>\n",
       "      <td>10.869794</td>\n",
       "    </tr>\n",
       "    <tr>\n",
       "      <th>19</th>\n",
       "      <td>20</td>\n",
       "      <td>11140490.2</td>\n",
       "      <td>11140588.0</td>\n",
       "      <td>11.150334</td>\n",
       "    </tr>\n",
       "  </tbody>\n",
       "</table>\n",
       "</div>"
      ],
      "text/plain": [
       "    P_DEGREE      READING        TOTAL        S_p\n",
       "0          1  121938098.8  121938181.2   1.018723\n",
       "1          2   63098904.8   63098992.8   1.968673\n",
       "2          3   43129502.8   43129592.6   2.880187\n",
       "3          4   32771386.2   32771475.8   3.790530\n",
       "4          5   26757658.6   26757762.6   4.642439\n",
       "5          6   22372235.4   22372325.4   5.552453\n",
       "6          7   19488858.4   19488949.0   6.373934\n",
       "7          8   17290659.4   17290751.0   7.184262\n",
       "8          9   15784143.8   15784232.6   7.869960\n",
       "9         10   14290113.4   14290204.4   8.692757\n",
       "10        11   17228135.0   17228222.4   7.210336\n",
       "11        12   16324805.0   16324899.4   7.609314\n",
       "12        13   15292032.4   15292120.8   8.123221\n",
       "13        14   14234303.6   14234397.8   8.726838\n",
       "14        15   13622863.4   13622950.6   9.118530\n",
       "15        16   12706406.8   12706499.6   9.776200\n",
       "16        17   12212822.2   12212916.0  10.171304\n",
       "17        18   11666325.0   11666414.6  10.647768\n",
       "18        19   11428022.2   11428117.2  10.869794\n",
       "19        20   11140490.2   11140588.0  11.150334"
      ]
     },
     "execution_count": 11,
     "metadata": {},
     "output_type": "execute_result"
    }
   ],
   "source": [
    "sp_data"
   ]
  },
  {
   "cell_type": "code",
   "execution_count": 19,
   "id": "011dfe6a-3417-4d94-ab92-55dd167d5c2c",
   "metadata": {},
   "outputs": [
    {
     "data": {
      "text/plain": [
       "[<matplotlib.lines.Line2D at 0x7f88c4973710>]"
      ]
     },
     "execution_count": 19,
     "metadata": {},
     "output_type": "execute_result"
    },
    {
     "data": {
      "image/png": "[encoded data removed]",
      "text/plain": [
       "<Figure size 640x480 with 1 Axes>"
      ]
     },
     "metadata": {},
     "output_type": "display_data"
    }
   ],
   "source": [
    "# plot results\n",
    "plt.xticks(sp_data['P_DEGREE'])\n",
    "plt.xlabel('P_{degree}')\n",
    "plt.ylabel('Speedup')\n",
    "\n",
    "plt.plot(sp_data['P_DEGREE'], sp_data['S_p'], 'x-b')"
   ]
  },
  {
   "cell_type": "markdown",
   "id": "7ffac676-9e52-4b6b-a214-3d0626925705",
   "metadata": {},
   "source": [
    "# Scalability\n",
    "\n",
    "Compute the scalability that is $S_n=\\frac{T(1)}{T(N)}$"
   ]
  },
  {
   "cell_type": "code",
   "execution_count": 13,
   "id": "10edac76-d9a3-4d97-87ee-2b679f46fad4",
   "metadata": {},
   "outputs": [
    {
     "data": {
      "text/plain": [
       "0    121938181.2\n",
       "Name: TOTAL, dtype: float64"
      ]
     },
     "execution_count": 13,
     "metadata": {},
     "output_type": "execute_result"
    }
   ],
   "source": [
    "time_n0 = sp_data[sp_data['P_DEGREE'] == 1]['TOTAL']\n",
    "time_n0"
   ]
  },
  {
   "cell_type": "code",
   "execution_count": 14,
   "id": "f04b2a45-bec7-4cb7-a06d-6b4ec2a8c1ed",
   "metadata": {},
   "outputs": [],
   "source": [
    "sp_data['S_c'] = sp_data['TOTAL'].map(lambda x: time_n0 / x)"
   ]
  },
  {
   "cell_type": "code",
   "execution_count": 15,
   "id": "693ce251-a52f-4478-b5ca-e4355aefeb8f",
   "metadata": {},
   "outputs": [
    {
     "name": "stderr",
     "output_type": "stream",
     "text": [
      "/home/federicosilvestri/CLionProjects/spm-project/benchmark_workspace/venv/lib/python3.11/site-packages/matplotlib/cbook.py:1699: FutureWarning: Calling float on a single element Series is deprecated and will raise a TypeError in the future. Use float(ser.iloc[0]) instead\n",
      "  return math.isfinite(val)\n",
      "/home/federicosilvestri/CLionProjects/spm-project/benchmark_workspace/venv/lib/python3.11/site-packages/matplotlib/cbook.py:1345: FutureWarning: Calling float on a single element Series is deprecated and will raise a TypeError in the future. Use float(ser.iloc[0]) instead\n",
      "  return np.asarray(x, float)\n"
     ]
    },
    {
     "data": {
      "text/plain": [
       "[<matplotlib.lines.Line2D at 0x7f88c888c550>]"
      ]
     },
     "execution_count": 15,
     "metadata": {},
     "output_type": "execute_result"
    },
    {
     "data": {
      "image/png": "[encoded data removed]",
      "text/plain": [
       "<Figure size 640x480 with 1 Axes>"
      ]
     },
     "metadata": {},
     "output_type": "display_data"
    }
   ],
   "source": [
    "# plot results\n",
    "plt.xticks(sp_data['P_DEGREE'])\n",
    "plt.xlabel('P_{degree}')\n",
    "plt.ylabel('Scalability')\n",
    "\n",
    "plt.plot(sp_data['P_DEGREE'], sp_data['S_c'], 'x-b')"
   ]
  },
  {
   "cell_type": "code",
   "execution_count": null,
   "id": "74765596-1588-4747-b2b0-be29970220d3",
   "metadata": {},
   "outputs": [],
   "source": []
  }
 ],
 "metadata": {
  "kernelspec": {
   "display_name": "Python 3 (ipykernel)",
   "language": "python",
   "name": "python3"
  },
  "language_info": {
   "codemirror_mode": {
    "name": "ipython",
    "version": 3
   },
   "file_extension": ".py",
   "mimetype": "text/x-python",
   "name": "python",
   "nbconvert_exporter": "python",
   "pygments_lexer": "ipython3",
   "version": "3.11.5"
  }
 },
 "nbformat": 4,
 "nbformat_minor": 5
}
