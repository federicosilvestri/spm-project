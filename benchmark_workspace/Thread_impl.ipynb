{
 "cells": [
  {
   "cell_type": "code",
   "execution_count": 1,
   "id": "031464dd-e1ff-4831-83d6-b762e66be335",
   "metadata": {},
   "outputs": [],
   "source": [
    "from b_tools.preprocess import get_standardized_measures"
   ]
  },
  {
   "cell_type": "code",
   "execution_count": 2,
   "id": "1a0a2e71-d677-423c-91c4-29a06a75122f",
   "metadata": {},
   "outputs": [],
   "source": [
    "DATASET='20'"
   ]
  },
  {
   "cell_type": "code",
   "execution_count": 3,
   "id": "87116f28-1bb2-46dc-b97d-5066d6df4995",
   "metadata": {},
   "outputs": [],
   "source": [
    "seq = get_standardized_measures(f'results/sequential_{DATASET}.csv')\n",
    "seq_time_tot = seq['TOTAL'].mean()\n",
    "seq_time_freq = seq['FREQCALC'].mean()"
   ]
  },
  {
   "cell_type": "code",
   "execution_count": 4,
   "id": "e90a8f4f-5000-473b-afe8-0d2a10361d4a",
   "metadata": {},
   "outputs": [],
   "source": [
    "data = get_standardized_measures(f'results/thr_{DATASET}.csv', excluded_columns=['P_DEGREE'])"
   ]
  },
  {
   "cell_type": "code",
   "execution_count": 5,
   "id": "ff041285-e4aa-471e-ba83-8396361f3915",
   "metadata": {},
   "outputs": [
    {
     "data": {
      "text/html": [
       "<div>\n",
       "<style scoped>\n",
       "    .dataframe tbody tr th:only-of-type {\n",
       "        vertical-align: middle;\n",
       "    }\n",
       "\n",
       "    .dataframe tbody tr th {\n",
       "        vertical-align: top;\n",
       "    }\n",
       "\n",
       "    .dataframe thead th {\n",
       "        text-align: right;\n",
       "    }\n",
       "</style>\n",
       "<table border=\"1\" class=\"dataframe\">\n",
       "  <thead>\n",
       "    <tr style=\"text-align: right;\">\n",
       "      <th></th>\n",
       "      <th>P_DEGREE</th>\n",
       "      <th>READ</th>\n",
       "      <th>FREQCALC</th>\n",
       "      <th>HUFFBUILD</th>\n",
       "      <th>MAP</th>\n",
       "      <th>WRITE</th>\n",
       "      <th>TOTAL</th>\n",
       "    </tr>\n",
       "  </thead>\n",
       "  <tbody>\n",
       "    <tr>\n",
       "      <th>0</th>\n",
       "      <td>1</td>\n",
       "      <td>25495802</td>\n",
       "      <td>752474252</td>\n",
       "      <td>220056</td>\n",
       "      <td>2324186873</td>\n",
       "      <td>189611302</td>\n",
       "      <td>3291988285</td>\n",
       "    </tr>\n",
       "    <tr>\n",
       "      <th>1</th>\n",
       "      <td>1</td>\n",
       "      <td>25708117</td>\n",
       "      <td>762238506</td>\n",
       "      <td>219369</td>\n",
       "      <td>2330198506</td>\n",
       "      <td>199276118</td>\n",
       "      <td>3317640616</td>\n",
       "    </tr>\n",
       "    <tr>\n",
       "      <th>2</th>\n",
       "      <td>6</td>\n",
       "      <td>25133802</td>\n",
       "      <td>239348245</td>\n",
       "      <td>222052</td>\n",
       "      <td>1259792018</td>\n",
       "      <td>182909356</td>\n",
       "      <td>1707405473</td>\n",
       "    </tr>\n",
       "    <tr>\n",
       "      <th>3</th>\n",
       "      <td>6</td>\n",
       "      <td>25893441</td>\n",
       "      <td>234058280</td>\n",
       "      <td>222405</td>\n",
       "      <td>1248568715</td>\n",
       "      <td>199630214</td>\n",
       "      <td>1708373055</td>\n",
       "    </tr>\n",
       "    <tr>\n",
       "      <th>4</th>\n",
       "      <td>11</td>\n",
       "      <td>25337802</td>\n",
       "      <td>280723889</td>\n",
       "      <td>257821</td>\n",
       "      <td>1451533018</td>\n",
       "      <td>203081530</td>\n",
       "      <td>1960934060</td>\n",
       "    </tr>\n",
       "    <tr>\n",
       "      <th>5</th>\n",
       "      <td>11</td>\n",
       "      <td>25567955</td>\n",
       "      <td>275648141</td>\n",
       "      <td>221120</td>\n",
       "      <td>1430316705</td>\n",
       "      <td>198934852</td>\n",
       "      <td>1930688773</td>\n",
       "    </tr>\n",
       "    <tr>\n",
       "      <th>6</th>\n",
       "      <td>16</td>\n",
       "      <td>25490265</td>\n",
       "      <td>309232884</td>\n",
       "      <td>189209</td>\n",
       "      <td>1558983564</td>\n",
       "      <td>189934476</td>\n",
       "      <td>2083830398</td>\n",
       "    </tr>\n",
       "    <tr>\n",
       "      <th>7</th>\n",
       "      <td>16</td>\n",
       "      <td>25683020</td>\n",
       "      <td>296815557</td>\n",
       "      <td>193280</td>\n",
       "      <td>1554085497</td>\n",
       "      <td>187656114</td>\n",
       "      <td>2064433468</td>\n",
       "    </tr>\n",
       "  </tbody>\n",
       "</table>\n",
       "</div>"
      ],
      "text/plain": [
       "   P_DEGREE      READ   FREQCALC  HUFFBUILD         MAP      WRITE       TOTAL\n",
       "0         1  25495802  752474252     220056  2324186873  189611302  3291988285\n",
       "1         1  25708117  762238506     219369  2330198506  199276118  3317640616\n",
       "2         6  25133802  239348245     222052  1259792018  182909356  1707405473\n",
       "3         6  25893441  234058280     222405  1248568715  199630214  1708373055\n",
       "4        11  25337802  280723889     257821  1451533018  203081530  1960934060\n",
       "5        11  25567955  275648141     221120  1430316705  198934852  1930688773\n",
       "6        16  25490265  309232884     189209  1558983564  189934476  2083830398\n",
       "7        16  25683020  296815557     193280  1554085497  187656114  2064433468"
      ]
     },
     "execution_count": 5,
     "metadata": {},
     "output_type": "execute_result"
    }
   ],
   "source": [
    "data"
   ]
  },
  {
   "cell_type": "code",
   "execution_count": 6,
   "id": "2823b5c4-222e-4408-9ef1-a866eab17025",
   "metadata": {},
   "outputs": [],
   "source": [
    "import matplotlib.pyplot as plt\n",
    "plt.rcParams['text.usetex'] = True"
   ]
  },
  {
   "cell_type": "code",
   "execution_count": 7,
   "id": "30cb2fad-f698-4b88-8edf-58140b07066a",
   "metadata": {},
   "outputs": [
    {
     "data": {
      "image/png": "[encoded data removed]",
      "text/plain": [
       "<Figure size 1500x400 with 1 Axes>"
      ]
     },
     "metadata": {},
     "output_type": "display_data"
    }
   ],
   "source": [
    "# setting up the plot\n",
    "plt.figure(figsize=(15,4))\n",
    "plt.title('Execution time')\n",
    "plt.xticks(range(0, len(data['P_DEGREE']), 2))\n",
    "plt.xlabel(\"P\")\n",
    "plt.ylabel(\"Time [ns]\")\n",
    "# sequential\n",
    "plt.plot(data['P_DEGREE'], [seq_time_tot for _ in range(len(data['P_DEGREE']))], '--r')\n",
    "# parallel\n",
    "plt.plot(data['P_DEGREE'], data['TOTAL'], 'x-b')\n",
    "\n",
    "plt.legend(['Sequential', 'Theaded'])\n",
    "plt.show()"
   ]
  },
  {
   "cell_type": "markdown",
   "id": "9dbde1eb-09e7-4a73-bfe4-68ed11c0c44d",
   "metadata": {},
   "source": [
    "# Outlier detection and mean\n",
    "\n",
    "Here we remove the outliers for the data and we compute the mean"
   ]
  },
  {
   "cell_type": "code",
   "execution_count": 8,
   "id": "e9d51ace-64bb-4fca-9348-e41016d522a8",
   "metadata": {},
   "outputs": [],
   "source": [
    "import pandas as pd"
   ]
  },
  {
   "cell_type": "code",
   "execution_count": 9,
   "id": "f10d227b-f073-4090-805f-fb0962163ad9",
   "metadata": {},
   "outputs": [],
   "source": [
    "# compute the mean for each group\n",
    "sp_data = data.groupby('P_DEGREE', as_index=False).median()"
   ]
  },
  {
   "cell_type": "code",
   "execution_count": 10,
   "id": "664c343f-cb09-4e0a-9dc0-91f722754a84",
   "metadata": {},
   "outputs": [
    {
     "data": {
      "text/html": [
       "<div>\n",
       "<style scoped>\n",
       "    .dataframe tbody tr th:only-of-type {\n",
       "        vertical-align: middle;\n",
       "    }\n",
       "\n",
       "    .dataframe tbody tr th {\n",
       "        vertical-align: top;\n",
       "    }\n",
       "\n",
       "    .dataframe thead th {\n",
       "        text-align: right;\n",
       "    }\n",
       "</style>\n",
       "<table border=\"1\" class=\"dataframe\">\n",
       "  <thead>\n",
       "    <tr style=\"text-align: right;\">\n",
       "      <th></th>\n",
       "      <th>P_DEGREE</th>\n",
       "      <th>READ</th>\n",
       "      <th>FREQCALC</th>\n",
       "      <th>HUFFBUILD</th>\n",
       "      <th>MAP</th>\n",
       "      <th>WRITE</th>\n",
       "      <th>TOTAL</th>\n",
       "    </tr>\n",
       "  </thead>\n",
       "  <tbody>\n",
       "    <tr>\n",
       "      <th>0</th>\n",
       "      <td>1</td>\n",
       "      <td>25601959.5</td>\n",
       "      <td>757356379.0</td>\n",
       "      <td>219712.5</td>\n",
       "      <td>2.327193e+09</td>\n",
       "      <td>194443710.0</td>\n",
       "      <td>3.304814e+09</td>\n",
       "    </tr>\n",
       "    <tr>\n",
       "      <th>1</th>\n",
       "      <td>6</td>\n",
       "      <td>25513621.5</td>\n",
       "      <td>236703262.5</td>\n",
       "      <td>222228.5</td>\n",
       "      <td>1.254180e+09</td>\n",
       "      <td>191269785.0</td>\n",
       "      <td>1.707889e+09</td>\n",
       "    </tr>\n",
       "    <tr>\n",
       "      <th>2</th>\n",
       "      <td>11</td>\n",
       "      <td>25452878.5</td>\n",
       "      <td>278186015.0</td>\n",
       "      <td>239470.5</td>\n",
       "      <td>1.440925e+09</td>\n",
       "      <td>201008191.0</td>\n",
       "      <td>1.945811e+09</td>\n",
       "    </tr>\n",
       "    <tr>\n",
       "      <th>3</th>\n",
       "      <td>16</td>\n",
       "      <td>25586642.5</td>\n",
       "      <td>303024220.5</td>\n",
       "      <td>191244.5</td>\n",
       "      <td>1.556535e+09</td>\n",
       "      <td>188795295.0</td>\n",
       "      <td>2.074132e+09</td>\n",
       "    </tr>\n",
       "  </tbody>\n",
       "</table>\n",
       "</div>"
      ],
      "text/plain": [
       "   P_DEGREE        READ     FREQCALC  HUFFBUILD           MAP        WRITE  \\\n",
       "0         1  25601959.5  757356379.0   219712.5  2.327193e+09  194443710.0   \n",
       "1         6  25513621.5  236703262.5   222228.5  1.254180e+09  191269785.0   \n",
       "2        11  25452878.5  278186015.0   239470.5  1.440925e+09  201008191.0   \n",
       "3        16  25586642.5  303024220.5   191244.5  1.556535e+09  188795295.0   \n",
       "\n",
       "          TOTAL  \n",
       "0  3.304814e+09  \n",
       "1  1.707889e+09  \n",
       "2  1.945811e+09  \n",
       "3  2.074132e+09  "
      ]
     },
     "execution_count": 10,
     "metadata": {},
     "output_type": "execute_result"
    }
   ],
   "source": [
    "sp_data"
   ]
  },
  {
   "cell_type": "markdown",
   "id": "903c2ce9-27e0-4256-b3eb-4beeece3327e",
   "metadata": {},
   "source": [
    "# Speedup\n",
    "\n",
    "Let's calculate the speedup $\\frac{T_{seq}}{T(P)}$"
   ]
  },
  {
   "cell_type": "code",
   "execution_count": 11,
   "id": "a3e41ee2-dd47-4c2c-bb8c-abe9493f501e",
   "metadata": {},
   "outputs": [],
   "source": [
    "sp_data['S_p'] = sp_data['TOTAL'].map(lambda x: seq_time_tot / x)"
   ]
  },
  {
   "cell_type": "code",
   "execution_count": 12,
   "id": "12a491e0-0aca-419b-8656-f581e02847a4",
   "metadata": {},
   "outputs": [
    {
     "data": {
      "text/html": [
       "<div>\n",
       "<style scoped>\n",
       "    .dataframe tbody tr th:only-of-type {\n",
       "        vertical-align: middle;\n",
       "    }\n",
       "\n",
       "    .dataframe tbody tr th {\n",
       "        vertical-align: top;\n",
       "    }\n",
       "\n",
       "    .dataframe thead th {\n",
       "        text-align: right;\n",
       "    }\n",
       "</style>\n",
       "<table border=\"1\" class=\"dataframe\">\n",
       "  <thead>\n",
       "    <tr style=\"text-align: right;\">\n",
       "      <th></th>\n",
       "      <th>P_DEGREE</th>\n",
       "      <th>READ</th>\n",
       "      <th>FREQCALC</th>\n",
       "      <th>HUFFBUILD</th>\n",
       "      <th>MAP</th>\n",
       "      <th>WRITE</th>\n",
       "      <th>TOTAL</th>\n",
       "      <th>S_p</th>\n",
       "    </tr>\n",
       "  </thead>\n",
       "  <tbody>\n",
       "    <tr>\n",
       "      <th>0</th>\n",
       "      <td>1</td>\n",
       "      <td>25601959.5</td>\n",
       "      <td>757356379.0</td>\n",
       "      <td>219712.5</td>\n",
       "      <td>2.327193e+09</td>\n",
       "      <td>194443710.0</td>\n",
       "      <td>3.304814e+09</td>\n",
       "      <td>0.838489</td>\n",
       "    </tr>\n",
       "    <tr>\n",
       "      <th>1</th>\n",
       "      <td>6</td>\n",
       "      <td>25513621.5</td>\n",
       "      <td>236703262.5</td>\n",
       "      <td>222228.5</td>\n",
       "      <td>1.254180e+09</td>\n",
       "      <td>191269785.0</td>\n",
       "      <td>1.707889e+09</td>\n",
       "      <td>1.622501</td>\n",
       "    </tr>\n",
       "    <tr>\n",
       "      <th>2</th>\n",
       "      <td>11</td>\n",
       "      <td>25452878.5</td>\n",
       "      <td>278186015.0</td>\n",
       "      <td>239470.5</td>\n",
       "      <td>1.440925e+09</td>\n",
       "      <td>201008191.0</td>\n",
       "      <td>1.945811e+09</td>\n",
       "      <td>1.424111</td>\n",
       "    </tr>\n",
       "    <tr>\n",
       "      <th>3</th>\n",
       "      <td>16</td>\n",
       "      <td>25586642.5</td>\n",
       "      <td>303024220.5</td>\n",
       "      <td>191244.5</td>\n",
       "      <td>1.556535e+09</td>\n",
       "      <td>188795295.0</td>\n",
       "      <td>2.074132e+09</td>\n",
       "      <td>1.336005</td>\n",
       "    </tr>\n",
       "  </tbody>\n",
       "</table>\n",
       "</div>"
      ],
      "text/plain": [
       "   P_DEGREE        READ     FREQCALC  HUFFBUILD           MAP        WRITE  \\\n",
       "0         1  25601959.5  757356379.0   219712.5  2.327193e+09  194443710.0   \n",
       "1         6  25513621.5  236703262.5   222228.5  1.254180e+09  191269785.0   \n",
       "2        11  25452878.5  278186015.0   239470.5  1.440925e+09  201008191.0   \n",
       "3        16  25586642.5  303024220.5   191244.5  1.556535e+09  188795295.0   \n",
       "\n",
       "          TOTAL       S_p  \n",
       "0  3.304814e+09  0.838489  \n",
       "1  1.707889e+09  1.622501  \n",
       "2  1.945811e+09  1.424111  \n",
       "3  2.074132e+09  1.336005  "
      ]
     },
     "execution_count": 12,
     "metadata": {},
     "output_type": "execute_result"
    }
   ],
   "source": [
    "sp_data"
   ]
  },
  {
   "cell_type": "code",
   "execution_count": 13,
   "id": "011dfe6a-3417-4d94-ab92-55dd167d5c2c",
   "metadata": {},
   "outputs": [
    {
     "data": {
      "text/plain": [
       "[<matplotlib.lines.Line2D at 0x7fd539431750>]"
      ]
     },
     "execution_count": 13,
     "metadata": {},
     "output_type": "execute_result"
    },
    {
     "data": {
      "image/png": "[encoded data removed]",
      "text/plain": [
       "<Figure size 1500x400 with 1 Axes>"
      ]
     },
     "metadata": {},
     "output_type": "display_data"
    }
   ],
   "source": [
    "# plot results\n",
    "plt.figure(figsize=(15,4))\n",
    "plt.title(\"Speedup\")\n",
    "plt.xlabel('P_{degree}')\n",
    "plt.xticks(range(0, len(sp_data), 2))\n",
    "\n",
    "plt.plot(sp_data['P_DEGREE'], sp_data['S_p'], '*-b')"
   ]
  },
  {
   "cell_type": "markdown",
   "id": "7ffac676-9e52-4b6b-a214-3d0626925705",
   "metadata": {},
   "source": [
    "# Scalability\n",
    "\n",
    "Compute the scalability that is $S_n=\\frac{T(1)}{T(N)}$"
   ]
  },
  {
   "cell_type": "code",
   "execution_count": 14,
   "id": "10edac76-d9a3-4d97-87ee-2b679f46fad4",
   "metadata": {},
   "outputs": [
    {
     "data": {
      "text/plain": [
       "0    3.304814e+09\n",
       "Name: TOTAL, dtype: float64"
      ]
     },
     "execution_count": 14,
     "metadata": {},
     "output_type": "execute_result"
    }
   ],
   "source": [
    "time_n0 = sp_data[sp_data['P_DEGREE'] == 1]['TOTAL']\n",
    "time_n0"
   ]
  },
  {
   "cell_type": "code",
   "execution_count": 15,
   "id": "f04b2a45-bec7-4cb7-a06d-6b4ec2a8c1ed",
   "metadata": {},
   "outputs": [],
   "source": [
    "sp_data['S_c'] = sp_data['TOTAL'].map(lambda x: time_n0 / x)"
   ]
  },
  {
   "cell_type": "code",
   "execution_count": 16,
   "id": "693ce251-a52f-4478-b5ca-e4355aefeb8f",
   "metadata": {},
   "outputs": [
    {
     "name": "stderr",
     "output_type": "stream",
     "text": [
      "/home/federicosilvestri/CLionProjects/spm-project/benchmark_workspace/venv/lib/python3.11/site-packages/matplotlib/cbook.py:1699: FutureWarning: Calling float on a single element Series is deprecated and will raise a TypeError in the future. Use float(ser.iloc[0]) instead\n",
      "  return math.isfinite(val)\n",
      "/home/federicosilvestri/CLionProjects/spm-project/benchmark_workspace/venv/lib/python3.11/site-packages/matplotlib/cbook.py:1345: FutureWarning: Calling float on a single element Series is deprecated and will raise a TypeError in the future. Use float(ser.iloc[0]) instead\n",
      "  return np.asarray(x, float)\n"
     ]
    },
    {
     "data": {
      "text/plain": [
       "[<matplotlib.lines.Line2D at 0x7fd538f9a650>]"
      ]
     },
     "execution_count": 16,
     "metadata": {},
     "output_type": "execute_result"
    },
    {
     "data": {
      "image/png": "[encoded data removed]",
      "text/plain": [
       "<Figure size 1500x400 with 1 Axes>"
      ]
     },
     "metadata": {},
     "output_type": "display_data"
    }
   ],
   "source": [
    "# plot results\n",
    "plt.figure(figsize=(15,4))\n",
    "plt.xticks(range(0, len(sp_data), 2))\n",
    "plt.xlabel('P_{degree}')\n",
    "plt.ylabel('Scalability')\n",
    "\n",
    "plt.plot(sp_data['P_DEGREE'], sp_data['S_c'], 'x-b')"
   ]
  }
 ],
 "metadata": {
  "kernelspec": {
   "display_name": "Python 3 (ipykernel)",
   "language": "python",
   "name": "python3"
  },
  "language_info": {
   "codemirror_mode": {
    "name": "ipython",
    "version": 3
   },
   "file_extension": ".py",
   "mimetype": "text/x-python",
   "name": "python",
   "nbconvert_exporter": "python",
   "pygments_lexer": "ipython3",
   "version": "3.11.5"
  }
 },
 "nbformat": 4,
 "nbformat_minor": 5
}
